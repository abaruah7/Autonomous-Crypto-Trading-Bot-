{
  "nbformat": 4,
  "nbformat_minor": 0,
  "metadata": {
    "kernelspec": {
      "display_name": "Python 3",
      "language": "python",
      "name": "python3"
    },
    "language_info": {
      "codemirror_mode": {
        "name": "ipython",
        "version": 3
      },
      "file_extension": ".py",
      "mimetype": "text/x-python",
      "name": "python",
      "nbconvert_exporter": "python",
      "pygments_lexer": "ipython3",
      "version": "3.7.5rc1"
    },
    "colab": {
      "name": "tradingbot_example.ipynb",
      "provenance": [],
      "collapsed_sections": [],
      "toc_visible": true
    }
  },
  "cells": [
    {
      "cell_type": "markdown",
      "metadata": {
        "id": "kdvRfXBJ96OF",
        "colab_type": "text"
      },
      "source": [
        "## Imports"
      ]
    },
    {
      "cell_type": "code",
      "metadata": {
        "id": "GAty4w2KFV3v",
        "colab_type": "code",
        "colab": {
          "base_uri": "https://localhost:8080/",
          "height": 541
        },
        "outputId": "4263735c-3669-4383-9f7d-27a01e0dce4d"
      },
      "source": [
        "!pip3 install python-binance"
      ],
      "execution_count": 1,
      "outputs": [
        {
          "output_type": "stream",
          "text": [
            "Requirement already satisfied: python-binance in /usr/local/lib/python3.6/dist-packages (0.7.4)\n",
            "Requirement already satisfied: urllib3 in /usr/local/lib/python3.6/dist-packages (from python-binance) (1.24.3)\n",
            "Requirement already satisfied: dateparser in /usr/local/lib/python3.6/dist-packages (from python-binance) (0.7.2)\n",
            "Requirement already satisfied: certifi in /usr/local/lib/python3.6/dist-packages (from python-binance) (2019.9.11)\n",
            "Requirement already satisfied: pyOpenSSL in /usr/local/lib/python3.6/dist-packages (from python-binance) (19.1.0)\n",
            "Requirement already satisfied: six in /usr/local/lib/python3.6/dist-packages (from python-binance) (1.12.0)\n",
            "Requirement already satisfied: autobahn in /usr/local/lib/python3.6/dist-packages (from python-binance) (19.11.1)\n",
            "Requirement already satisfied: requests in /usr/local/lib/python3.6/dist-packages (from python-binance) (2.21.0)\n",
            "Requirement already satisfied: service-identity in /usr/local/lib/python3.6/dist-packages (from python-binance) (18.1.0)\n",
            "Requirement already satisfied: chardet in /usr/local/lib/python3.6/dist-packages (from python-binance) (3.0.4)\n",
            "Requirement already satisfied: cryptography in /usr/local/lib/python3.6/dist-packages (from python-binance) (2.8)\n",
            "Requirement already satisfied: Twisted in /usr/local/lib/python3.6/dist-packages (from python-binance) (19.10.0)\n",
            "Requirement already satisfied: python-dateutil in /usr/local/lib/python3.6/dist-packages (from dateparser->python-binance) (2.6.1)\n",
            "Requirement already satisfied: regex in /usr/local/lib/python3.6/dist-packages (from dateparser->python-binance) (2019.11.1)\n",
            "Requirement already satisfied: tzlocal in /usr/local/lib/python3.6/dist-packages (from dateparser->python-binance) (1.5.1)\n",
            "Requirement already satisfied: pytz in /usr/local/lib/python3.6/dist-packages (from dateparser->python-binance) (2018.9)\n",
            "Requirement already satisfied: txaio>=18.8.1 in /usr/local/lib/python3.6/dist-packages (from autobahn->python-binance) (18.8.1)\n",
            "Requirement already satisfied: idna<2.9,>=2.5 in /usr/local/lib/python3.6/dist-packages (from requests->python-binance) (2.8)\n",
            "Requirement already satisfied: pyasn1 in /usr/local/lib/python3.6/dist-packages (from service-identity->python-binance) (0.4.7)\n",
            "Requirement already satisfied: attrs>=16.0.0 in /usr/local/lib/python3.6/dist-packages (from service-identity->python-binance) (19.3.0)\n",
            "Requirement already satisfied: pyasn1-modules in /usr/local/lib/python3.6/dist-packages (from service-identity->python-binance) (0.2.7)\n",
            "Requirement already satisfied: cffi!=1.11.3,>=1.8 in /usr/local/lib/python3.6/dist-packages (from cryptography->python-binance) (1.13.2)\n",
            "Requirement already satisfied: zope.interface>=4.4.2 in /usr/local/lib/python3.6/dist-packages (from Twisted->python-binance) (4.7.1)\n",
            "Requirement already satisfied: Automat>=0.3.0 in /usr/local/lib/python3.6/dist-packages (from Twisted->python-binance) (0.8.0)\n",
            "Requirement already satisfied: incremental>=16.10.1 in /usr/local/lib/python3.6/dist-packages (from Twisted->python-binance) (17.5.0)\n",
            "Requirement already satisfied: constantly>=15.1 in /usr/local/lib/python3.6/dist-packages (from Twisted->python-binance) (15.1.0)\n",
            "Requirement already satisfied: PyHamcrest>=1.9.0 in /usr/local/lib/python3.6/dist-packages (from Twisted->python-binance) (1.9.0)\n",
            "Requirement already satisfied: hyperlink>=17.1.1 in /usr/local/lib/python3.6/dist-packages (from Twisted->python-binance) (19.0.0)\n",
            "Requirement already satisfied: pycparser in /usr/local/lib/python3.6/dist-packages (from cffi!=1.11.3,>=1.8->cryptography->python-binance) (2.19)\n",
            "Requirement already satisfied: setuptools in /usr/local/lib/python3.6/dist-packages (from zope.interface>=4.4.2->Twisted->python-binance) (41.6.0)\n"
          ],
          "name": "stdout"
        }
      ]
    },
    {
      "cell_type": "code",
      "metadata": {
        "id": "C-n3cyql96OH",
        "colab_type": "code",
        "colab": {
          "base_uri": "https://localhost:8080/",
          "height": 79
        },
        "outputId": "61d61d5b-9e54-4598-e260-c7e46828ca9d"
      },
      "source": [
        "# import helper as h\n",
        "import trading_helper as th\n",
        "import numpy as np\n",
        "import pandas as pd\n",
        "import time\n",
        "import os\n",
        "%tensorflow_version 2.x\n",
        "import tensorflow\n",
        "import tensorflow as tf\n",
        "import json\n",
        "from datetime import datetime, timedelta, timezone"
      ],
      "execution_count": 2,
      "outputs": [
        {
          "output_type": "display_data",
          "data": {
            "text/html": [
              "<p style=\"color: red;\">\n",
              "The default version of TensorFlow in Colab will soon switch to TensorFlow 2.x.<br>\n",
              "We recommend you <a href=\"https://www.tensorflow.org/guide/migrate\" target=\"_blank\">upgrade</a> now \n",
              "or ensure your notebook will continue to use TensorFlow 1.x via the <code>%tensorflow_version 1.x</code> magic:\n",
              "<a href=\"https://colab.research.google.com/notebooks/tensorflow_version.ipynb\" target=\"_blank\">more info</a>.</p>\n"
            ],
            "text/plain": [
              "<IPython.core.display.HTML object>"
            ]
          },
          "metadata": {
            "tags": []
          }
        },
        {
          "output_type": "stream",
          "text": [
            "TensorFlow is already loaded. Please restart the runtime to change versions.\n"
          ],
          "name": "stdout"
        }
      ]
    },
    {
      "cell_type": "markdown",
      "metadata": {
        "id": "Bb9smJuF96OK",
        "colab_type": "text"
      },
      "source": [
        "## Trading strategy\n",
        "Here is a simple trading strategy meat to illustrate the bare minimum.\n",
        "\n",
        "See the (Python Binance API)[https://python-binance.readthedocs.io/en/latest/] for more functionality."
      ]
    },
    {
      "cell_type": "code",
      "metadata": {
        "id": "5Bn2b4NH96OK",
        "colab_type": "code",
        "colab": {}
      },
      "source": [
        "def strategy(model, keys_fname, log_fname, win_sz, trading_interval='1d'):\n",
        "    \"\"\"\n",
        "    Arguments\n",
        "    --------- \n",
        "    model            : Some trained forecasting model\n",
        "    keys_fname       : File name to the keys, see below\n",
        "    log_fname        : You will need to log the trades you submit to Binance. \n",
        "                       The file name should be on the format \"tradingbot_group<number>_<date_time>.log\". \n",
        "                       E.g. \"tradingbot_group1_2019-11-13_00:23:23.log\"\n",
        "    win_sz           : The window size that you specified when training the model, \n",
        "                       i.e. how many time steps of historical data the model needs for a forecast.\n",
        "    trading_interval : How often the trading bot will query data from Binance, \n",
        "                       make a new forecast and decide whether to trade. \n",
        "                       E.g. '1min', '5min', '15min', '30min', '1h', '2h', '4h', '6h', '12h', '1d' or '1w'.\n",
        "    \"\"\"\n",
        "    \n",
        "    # use the keys stored in KEYS_FNAME to initialize the Binance client\n",
        "    client = th.init_client(keys_fname)\n",
        "    \n",
        "    # convert the trading_interval string to seconds (int)\n",
        "    interval_s = th.interval_string_to_seconds(trading_interval)\n",
        "    \n",
        "    # initialize the log file\n",
        "    th.log(log_fname, new_log=True)\n",
        "        \n",
        "    # initialize trading with historical data\n",
        "    t = datetime.utcnow()\n",
        "    # timedelta(weeks=2) -> 2 weeks back in time\n",
        "    t = th.UTC('time') - timedelta(weeks=7)\n",
        "    # get data to begin forecasting from\n",
        "    data = th.get_klines([t.year, t.month, t.day, t.hour, t.minute, t.second], interval=trading_interval)\n",
        "    \n",
        "    # forecast \n",
        "    x = data['returns'][-win_sz:].to_numpy().reshape((win_sz, 1))\n",
        "    forecast = model.predict(x)\n",
        "    \n",
        "    while True:\n",
        "    \n",
        "        try:\n",
        "\n",
        "            if forecast[-1] > 0:  # forcasted price increase -> buy\n",
        "\n",
        "                # decide on how to set the entry price\n",
        "                entry_price = data['high'][-1] \n",
        "                risk = 1.  # all in, max risk\n",
        "                # get the current balance\n",
        "                balance = client.get_asset_balance(asset='USDT')\n",
        "                entry_capital = np.float64(balance['free']) * risk # balance['free'] is a str -> convert to float\n",
        "                \n",
        "                if entry_capital > 0:\n",
        "                    order = th.limit_buy(client, 'BTCUSDT', entry_price, quantity=entry_capital)\n",
        "                    \n",
        "                    th.log(log_fname, order_type='NEW_BUY', quantity=order['origQty'],\n",
        "                        price=entry_price, time=th.UTC('iso'))\n",
        "\n",
        "            elif forecast[-1] < 0:  # forcasted price decrease\n",
        "                exit_price = data['low'][-1] \n",
        "                balance = client.get_asset_balance(asset='BTC')\n",
        "                risk = 1.  # all in, max risk\n",
        "                exit_capital = np.float64(balance['free']) * risk # balance['free'] is a str -> convert to float\n",
        "\n",
        "                if entry_capital > 0:\n",
        "                    order = th.limit_sell(client, 'BTCUSDT', exit_price, quantity=exit_capital)\n",
        "                    th.log(log_fname, order_type='NEW_SELL', quantity=order['origQty'],\n",
        "                        price=exit_price, time=th.UTC('iso'))\n",
        "                    \n",
        "            # pause/sleep for the trading_interval\n",
        "            time.sleep(interval_s)\n",
        "            # get last time from data\n",
        "            t = data.index[-1]\n",
        "            # update data \n",
        "            tmp = h.get_klines([t.year, t.month, t.day, t.hour, t.minute, t.second], interval=trading_interval)\n",
        "            data.append(tmp)\n",
        "            forecast = model.predict(data['returns'][-win_sz:])\n",
        "                \n",
        "        except ValueError:\n",
        "            pass  # Handles lookback errors in beginning of dataset"
      ],
      "execution_count": 0,
      "outputs": []
    },
    {
      "cell_type": "markdown",
      "metadata": {
        "id": "FVitVyCU96ON",
        "colab_type": "text"
      },
      "source": [
        "## Live trading on Binance"
      ]
    },
    {
      "cell_type": "code",
      "metadata": {
        "id": "pVkfzc2k96OO",
        "colab_type": "code",
        "colab": {
          "base_uri": "https://localhost:8080/",
          "height": 34
        },
        "outputId": "24648d00-f577-4663-b119-6f3ed4f442d2"
      },
      "source": [
        "# load pre-trainied model\n",
        "\n",
        "#model_name = 'BidirLSTM_2layer_regress_epochs150.h5'\n",
        "#model_dir = os.path.join('models', model_name)\n",
        "#fname_model = 'BidirLSTM_2layer_regress_epochs150.h5' % (model_dir, model_name, epochs)\n",
        "\n",
        "\n",
        "model = tf.keras.models.load_model('BidirLSTM_2layer_regress_epochs150.h5')\n",
        "keys_fname = 'group1_key.json' # set this file name to your file name\n",
        "log_fname = 'tradingbot_group1_%s.log' % (th.UTC('iso')[:-10]) # \n",
        "win_sz = 48  # example\n",
        "trading_interval = '1d' # example\n",
        "strategy(model, keys_fname, log_fname, win_sz=48, trading_interval=trading_interval)"
      ],
      "execution_count": 0,
      "outputs": [
        {
          "output_type": "stream",
          "text": [
            "\t 2019-11-19 23:59\n"
          ],
          "name": "stdout"
        }
      ]
    }
  ]
}